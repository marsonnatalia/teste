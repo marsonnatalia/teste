{
  "nbformat": 4,
  "nbformat_minor": 0,
  "metadata": {
    "colab": {
      "provenance": [],
      "include_colab_link": true
    },
    "kernelspec": {
      "name": "python3",
      "display_name": "Python 3"
    },
    "language_info": {
      "name": "python"
    }
  },
  "cells": [
    {
      "cell_type": "markdown",
      "metadata": {
        "id": "view-in-github",
        "colab_type": "text"
      },
      "source": [
        "<a href=\"https://colab.research.google.com/github/marsonnatalia/teste/blob/main/Series_Sinteticas_Natalia_Marson.ipynb\" target=\"_parent\"><img src=\"https://colab.research.google.com/assets/colab-badge.svg\" alt=\"Open In Colab\"/></a>"
      ]
    },
    {
      "cell_type": "code",
      "execution_count": 124,
      "metadata": {
        "id": "OHtnaSMWBu7g",
        "colab": {
          "base_uri": "https://localhost:8080/"
        },
        "outputId": "28f973a5-aff3-4aec-d340-d82806259268"
      },
      "outputs": [
        {
          "output_type": "stream",
          "name": "stdout",
          "text": [
            "Requirement already satisfied: PySDDP in /usr/local/lib/python3.10/dist-packages (0.0.39)\n",
            "Requirement already satisfied: numpy in /usr/local/lib/python3.10/dist-packages (from PySDDP) (1.23.5)\n",
            "Requirement already satisfied: matplotlib in /usr/local/lib/python3.10/dist-packages (from PySDDP) (3.7.1)\n",
            "Requirement already satisfied: cvxopt in /usr/local/lib/python3.10/dist-packages (from PySDDP) (1.3.2)\n",
            "Requirement already satisfied: pyswarm in /usr/local/lib/python3.10/dist-packages (from PySDDP) (0.6)\n",
            "Requirement already satisfied: scipy in /usr/local/lib/python3.10/dist-packages (from PySDDP) (1.10.1)\n",
            "Requirement already satisfied: typing in /usr/local/lib/python3.10/dist-packages (from PySDDP) (3.7.4.3)\n",
            "Requirement already satisfied: pandas in /usr/local/lib/python3.10/dist-packages (from PySDDP) (1.5.3)\n",
            "Requirement already satisfied: contourpy>=1.0.1 in /usr/local/lib/python3.10/dist-packages (from matplotlib->PySDDP) (1.1.0)\n",
            "Requirement already satisfied: cycler>=0.10 in /usr/local/lib/python3.10/dist-packages (from matplotlib->PySDDP) (0.11.0)\n",
            "Requirement already satisfied: fonttools>=4.22.0 in /usr/local/lib/python3.10/dist-packages (from matplotlib->PySDDP) (4.42.0)\n",
            "Requirement already satisfied: kiwisolver>=1.0.1 in /usr/local/lib/python3.10/dist-packages (from matplotlib->PySDDP) (1.4.4)\n",
            "Requirement already satisfied: packaging>=20.0 in /usr/local/lib/python3.10/dist-packages (from matplotlib->PySDDP) (23.1)\n",
            "Requirement already satisfied: pillow>=6.2.0 in /usr/local/lib/python3.10/dist-packages (from matplotlib->PySDDP) (9.4.0)\n",
            "Requirement already satisfied: pyparsing>=2.3.1 in /usr/local/lib/python3.10/dist-packages (from matplotlib->PySDDP) (3.1.1)\n",
            "Requirement already satisfied: python-dateutil>=2.7 in /usr/local/lib/python3.10/dist-packages (from matplotlib->PySDDP) (2.8.2)\n",
            "Requirement already satisfied: pytz>=2020.1 in /usr/local/lib/python3.10/dist-packages (from pandas->PySDDP) (2023.3)\n",
            "Requirement already satisfied: six>=1.5 in /usr/local/lib/python3.10/dist-packages (from python-dateutil>=2.7->matplotlib->PySDDP) (1.16.0)\n"
          ]
        }
      ],
      "source": [
        "!pip install PySDDP"
      ]
    },
    {
      "cell_type": "code",
      "source": [
        "from google.colab import drive, files\n",
        "import os\n",
        "\n",
        "#Montar o Google Drive no Colab com o nome gdrive\n",
        "\n",
        "drive.mount('/content/gdrive')\n",
        "\n",
        "# O comando abaixo mostra qual diretório você está trabalhando momento.\n",
        "print( os.getcwd() )\n",
        "\n",
        "Caminho_do_Arquivo = 'gdrive/My Drive/Newave_Ago_2023/'\n",
        "# O comando mostra o que está presente dentro da minha pasta GIF no meu drive, que está dentro do meu drive e em Doutorado. Mudar para o diretório que vocês criaram.\n",
        "print( os.listdir(Caminho_do_Arquivo) )"
      ],
      "metadata": {
        "id": "iiQTZmc1C6RB",
        "colab": {
          "base_uri": "https://localhost:8080/"
        },
        "outputId": "95dd3974-9717-4766-ed74-5aac816896fd"
      },
      "execution_count": 125,
      "outputs": [
        {
          "output_type": "stream",
          "name": "stdout",
          "text": [
            "Drive already mounted at /content/gdrive; to attempt to forcibly remount, call drive.mount(\"/content/gdrive\", force_remount=True).\n",
            "/content\n",
            "['PATAMAR.DAT', 'NewaveMsgPortug.txt', 'MANUTT.DAT', 'HIDR.DAT', 'MODIF.DAT', 'LOSS.DAT', 'MENSAG.TMP', 'ITAIPU.DAT', 'GTMINPAT.DAT', 'GTMIN_CCEE_082023.xlsx', 'GHMIN.DAT', 'FORMAT.TMP', 'EXPH.DAT', 'EXPT.DAT', 'ENSOAUX.DAT', 'ELNINO.DAT', 'CVAR.DAT', 'C_ADIC.DAT', 'DGER.DAT', 'DSVAGUA.DAT', 'CURVA.DAT', 'CONFT.DAT', 'CDEFVAR.DAT', 'AGRINT.DAT', 'ARQUIVOS.DAT', 'ADTERM.DAT', 'CASO.DAT', 'CLAST.DAT', 'BID.DAT', 'VAZOES.DAT', 'CONFHD.DAT', 'VAZPAST.DAT', 'REE.DAT', 'RE.DAT', 'TERM.DAT', 'PENALID.DAT', 'tecno.dat', 'SHIST.DAT', 'selcor.dat', 'POSTOS.DAT', 'SISTEMA.DAT']\n"
          ]
        }
      ]
    },
    {
      "cell_type": "code",
      "source": [
        "from PySDDP.Pen import Newave\n",
        "\n",
        "PMOAGO2023 = Newave(Caminho_do_Arquivo)"
      ],
      "metadata": {
        "id": "tvtYb869FNN2",
        "colab": {
          "base_uri": "https://localhost:8080/"
        },
        "outputId": "d99f0d23-605d-4a34-915f-87af5c06a75d"
      },
      "execution_count": 126,
      "outputs": [
        {
          "output_type": "stream",
          "name": "stdout",
          "text": [
            "OK! Leitura do CASO.DAT realizada com sucesso.\n",
            "OK! Leitura do ARQUIVOS.DAT realizada com sucesso.\n",
            "OK! Leitura do DGER.DAT realizada com sucesso.\n",
            "OK! Leitura do HIDR.DAT realizada com sucesso.\n",
            "OK! Leitura do VAZOES.DAT realizada com sucesso.\n",
            "OK! Leitura do MODIF.DAT realizada com sucesso. ( 99 Usinas Hidraulicas Modificadas )\n",
            "OK! Leitura do EXPH.DAT realizada com sucesso. ( 2 Usinas Hidraulicas Expandidas )\n",
            "OK! Leitura do CONFHD.DAT realizada com sucesso.\n",
            "OK! Leitura do REE.DAT realizada com sucesso. ( 12 Reservatórios Equivalentes de Energia Foram Lidos )\n",
            "OK! Leitura do SISTEMA.DAT realizada com sucesso.\n"
          ]
        }
      ]
    },
    {
      "cell_type": "code",
      "source": [
        "usina_srt = input('Digite o nome da Unisa a ser analisada: ')\n",
        "USINA = usina_srt\n",
        "Usina = PMOAGO2023.confhd.get(USINA)"
      ],
      "metadata": {
        "id": "wY5dAkfMHGGD",
        "colab": {
          "base_uri": "https://localhost:8080/"
        },
        "outputId": "b624ee61-c6ea-4cef-d8a3-1dad74e402b9"
      },
      "execution_count": 127,
      "outputs": [
        {
          "name": "stdout",
          "output_type": "stream",
          "text": [
            "Digite o nome da Unisa a ser analisada: FURNAS\n"
          ]
        }
      ]
    },
    {
      "cell_type": "markdown",
      "source": [
        "## Otimização para Estimar a Vazão de um Mês\n",
        "\n",
        "$$Min \\sum_{i=1931}^{2021}erro^2_{i}$$\n",
        "\n",
        "s. a:\n",
        "\n",
        "$$ Z_{AGO1931}=\\phi_1 \\cdot Z_{MAI,1931} + \\phi_2 \\cdot Z_{JUN,1931} + \\phi_3 \\cdot Z_{JUL,1931}$$\n",
        "$$.$$\n",
        "$$.$$\n",
        "$$.$$\n",
        "$$ Z_{AGO,2021}=\\phi_1 \\cdot Z_{MAI,2021} + \\phi_2 \\cdot Z_{JUN,2021} + \\phi_3 \\cdot Z_{JUL,2021}$$\n",
        "\n"
      ],
      "metadata": {
        "id": "TSdRaIzejAOr"
      }
    },
    {
      "cell_type": "code",
      "source": [
        "# Modelo Auto-Regressivo\n",
        "\n",
        "from cvxopt import matrix, solvers\n",
        "import numpy as np\n",
        "\n",
        "\n",
        "def entradas_vazao(Usina, Ano, num_meses, Mes,imprime = False):\n",
        "\n",
        "    num_anos = len(Usina['vazoes']) - 3 # Anos com dados de vazões históricas\n",
        "    Ano = Ano - 2023 + num_anos + 2\n",
        "\n",
        "    if Mes - num_meses >= 0:\n",
        "        recorte = Usina['vazoes'][1:num_anos+1,(Mes-num_meses):Mes]\n",
        "    else:\n",
        "        recorte_ano_atual = Usina['vazoes'][1:num_anos+1,0:Mes]\n",
        "        recorte_ano_ant = Usina['vazoes'][0:num_anos,(Mes-num_meses):]\n",
        "        recorte = np.hstack((recorte_ano_ant,recorte_ano_atual))\n",
        "\n",
        "    identidade = np.eye(num_anos)\n",
        "\n",
        "    Aeq = np.concatenate((recorte, identidade), axis = 1)\n",
        "    Aeq = Aeq.astype('float')\n",
        "    Aeq = matrix(Aeq)\n",
        "\n",
        "    Beq = Usina['vazoes'][1:num_anos+1,Mes]\n",
        "    Beq = Beq.astype('float')\n",
        "    Beq = matrix(Beq)\n",
        "    q = matrix(np.zeros(num_anos+num_meses))\n",
        "    P = 2*np.eye(num_anos+num_meses)\n",
        "    for i in range(0,num_meses):\n",
        "        P[i][i] = 0\n",
        "    P = matrix(P)\n",
        "\n",
        "    A = np.vstack((-1*np.eye(num_anos+num_meses), np.eye(num_anos+num_meses)))\n",
        "    A = A.astype('float')\n",
        "    A = matrix(A)\n",
        "    B = 99999*np.ones(((num_anos+num_meses)*2,1))\n",
        "    B = B.astype('float')\n",
        "    B = matrix(B)\n",
        "\n",
        "    solvers.options['show_progress'] = False\n",
        "    abstol = 1e-9\n",
        "    reltol = 1e-9\n",
        "    sol = solvers.qp(P, q, A, B, Aeq, Beq, abstol=abstol, reltol=reltol)\n",
        "\n",
        "    fob = sum(sol['x'][num_meses:])\n",
        "\n",
        "    if Mes - num_meses >= 0:\n",
        "\n",
        "        soma = 0\n",
        "        for i, v in enumerate(Usina['vazoes'][Ano,(Mes-num_meses):Mes]):\n",
        "            soma += v*sol['x'][i]\n",
        "    else:\n",
        "        soma = 0\n",
        "        for i, v in enumerate(Usina['vazoes'][Ano,0:Mes]):\n",
        "            soma += v*sol['x'][i+num_meses-Mes]\n",
        "        for i, v in enumerate(Usina['vazoes'][Ano-1,(Mes-num_meses):]):\n",
        "            soma += v*sol['x'][i]\n",
        "\n",
        "    if imprime:\n",
        "\n",
        "        print(f'Vazão estimada para o mês {Mes}: {soma} hm^3')\n",
        "\n",
        "    return [fob,soma,sol['x']]\n"
      ],
      "metadata": {
        "id": "BHu8KZLui8oY"
      },
      "execution_count": 128,
      "outputs": []
    },
    {
      "cell_type": "code",
      "source": [
        "from cvxopt import matrix, solvers\n",
        "from matplotlib import pyplot as plt\n",
        "\n",
        "# Ano a ser analisado\n",
        "ano_str = input(\"Digite o ano a ser analisado: \")\n",
        "AnoAnalisado  = int(ano_str)\n",
        "#AnoAnalisado = 2021\n",
        "\n",
        "# Numero de meses anteriores a serem considerados\n",
        "num_meses_str = input(\"Digite o número de meses a ser considerado: \")\n",
        "N_meses = int(num_meses_str)\n",
        "\n",
        "# Numero do mes considerando janeiro zero\n",
        "mes_str = input(\"Digite o número do mês a ser analisado: \")\n",
        "Mes_analisado = 7\n",
        "\n",
        "# Retira o ultimo e o primeiro ano e considera que a contagem começa em zero\n",
        "N_anos = len(Usina['vazoes']) - 3\n",
        "\n",
        "print(f'A vazão estimada é de: {entradas_vazao(Usina, AnoAnalisado, N_meses, Mes_analisado)[1]} m³/s')\n",
        "\n",
        "resultado = []\n",
        "fob = []\n",
        "\n",
        "for i in range(0,12):\n",
        "    resposta = entradas_vazao(Usina, AnoAnalisado, N_meses, i)\n",
        "    resultado.append(resposta[1])\n",
        "\n",
        "for i in range(1,12):\n",
        "    resposta = entradas_vazao(Usina, AnoAnalisado, i, Mes_analisado)\n",
        "    fob.append(resposta[0])\n",
        "\n",
        "\n",
        "# Converte o ano para o indice da lista\n",
        "AnoAnalisado = AnoAnalisado - 2023 + N_anos + 2\n"
      ],
      "metadata": {
        "id": "STrzoAS4plDH",
        "colab": {
          "base_uri": "https://localhost:8080/"
        },
        "outputId": "7849b4be-f55a-463b-a3d5-18aff1121c87"
      },
      "execution_count": 129,
      "outputs": [
        {
          "output_type": "stream",
          "name": "stdout",
          "text": [
            "Digite o ano a ser analisado: 2021\n",
            "Digite o número de meses a ser considerado: 12\n",
            "Digite o número do mês a ser analisado: 9\n",
            "A vazão estimada é de: 184.37254651253724 m³/s\n"
          ]
        }
      ]
    },
    {
      "cell_type": "markdown",
      "source": [
        "## Plot das Vazões Estimadas e Reais"
      ],
      "metadata": {
        "id": "xQBpCy0cyit5"
      }
    },
    {
      "cell_type": "code",
      "source": [
        "plt.figure()\n",
        "plt.title(\"Vazão Estimada x Vazão Real\")\n",
        "plt.xlabel(\"Meses\")\n",
        "plt.ylabel(\"Vazão (m³/s)\")\n",
        "plt.plot(list(range(1,13)),resultado,marker=\"o\",color=\"green\",label=\"Vazão Estimada\")\n",
        "plt.plot(list(range(1,13)),Usina['vazoes'][AnoAnalisado],marker=\"o\",color=\"blue\",label=\"Vazão Real\")\n",
        "plt.legend()\n"
      ],
      "metadata": {
        "id": "WviJj2V0vneM",
        "colab": {
          "base_uri": "https://localhost:8080/",
          "height": 489
        },
        "outputId": "8e83f8dd-307d-46b6-c72a-1141ac7976be"
      },
      "execution_count": 130,
      "outputs": [
        {
          "output_type": "execute_result",
          "data": {
            "text/plain": [
              "<matplotlib.legend.Legend at 0x7f503cec84f0>"
            ]
          },
          "metadata": {},
          "execution_count": 130
        },
        {
          "output_type": "display_data",
          "data": {
            "text/plain": [
              "<Figure size 640x480 with 1 Axes>"
            ],
            "image/png": "[encoded data removed]"
          },
          "metadata": {}
        }
      ]
    },
    {
      "cell_type": "markdown",
      "source": [
        "## Plot dos Erros"
      ],
      "metadata": {
        "id": "XtKkS8oMyyoD"
      }
    },
    {
      "cell_type": "code",
      "source": [
        "plt.bar(list(range(1,12)),fob)\n",
        "plt.title('Erros Obtidos na Otimização')\n",
        "plt.xlabel('Ano')\n",
        "plt.ylabel('Erro')\n",
        "plt.grid()"
      ],
      "metadata": {
        "id": "hijfHFsxwa5b",
        "colab": {
          "base_uri": "https://localhost:8080/",
          "height": 472
        },
        "outputId": "fad7beb9-ecb3-4dfa-f5fa-72054ad443d9"
      },
      "execution_count": 131,
      "outputs": [
        {
          "output_type": "display_data",
          "data": {
            "text/plain": [
              "<Figure size 640x480 with 1 Axes>"
            ],
            "image/png": "[encoded data removed]"
          },
          "metadata": {}
        }
      ]
    },
    {
      "cell_type": "code",
      "source": [
        "from cvxopt import matrix, solvers\n",
        "\n",
        "def despacho(Usina, VolInicic_Perc, ano, mes, Curva_Ref, Carga, CustoForaFaixa, Saida, FlipFlop, Imprimir = False):\n",
        "  produtibilidade = Usina['ro_equiv'][0][0]  # Produtibilidade em Mwmed / (m3/s)\n",
        "  vazao_afluente = Usina['vazoes'][ano-1931][mes-1]\n",
        "  engolimento = Usina['engol_tempo'][0][0]\n",
        "  vol_max = Usina['vol_max']\n",
        "  vol_min = Usina['vol_min']\n",
        "  potencia = Usina['potencia_tempo'][0][0]\n",
        "  VolInic_hm3 = vol_min + (vol_max-vol_min)*VolInicic_Perc/100.\n",
        "\n",
        "  # Cálculo da Produtibilidade no Ponto\n",
        "  cota = 0.\n",
        "  for i in range(5):\n",
        "      cota += Usina['pol_cota_vol'][i]*(VolInic_hm3**i)\n",
        "  queda = cota - Usina['cfmed']\n",
        "  prod_ponto = queda*Usina['prod_esp']\n",
        "\n",
        "  produtibilidade = prod_ponto\n",
        "\n",
        "  if Imprimir:\n",
        "    print(Usina.keys())\n",
        "    print(f\"O a produtibilidade de Furnas é: {produtibilidade} MWmed / (m3/s) \")\n",
        "    print(f\"A vazao afluente de Furnas é: {vazao_afluente} m3/s\")\n",
        "    print(f\"O engolimento máximo de Furnas é {engolimento} m3/s\")\n",
        "    print(f\"O volume máximo de Furnas é {vol_max} hm3\")\n",
        "    print(f\"O volume mínimo de Furnas é {vol_min} hm3\")\n",
        "    print(f\"Potencia Nominal de Furnas é {potencia} MWmed\")\n",
        "\n",
        "  CapacidadeInstalada = potencia/0.62\n",
        "  CapacidadeTermica = CapacidadeInstalada - potencia\n",
        "  UTE_A = {'Nome': 'GT_A',\n",
        "          'Capac': CapacidadeTermica*0.6,\n",
        "          'Custo': 250.0}\n",
        "  UTE_B = {'Nome': 'GT_B',\n",
        "          'Capac': CapacidadeTermica*0.4,\n",
        "          'Custo': 450.0}\n",
        "  #CustoDeficit = 4500.\n",
        "  CustoDeficit = 11000.\n",
        "\n",
        "  Faixa_Perc =  CurvaRef['Centro'][mes-1]\n",
        "\n",
        "  Faixa_hm3 = vol_min + (vol_max-vol_min)*Faixa_Perc/100.\n",
        "\n",
        "  FaixaInferior = Curva_Ref['LI'][mes-1]\n",
        "  FaixaSuperior = Curva_Ref['LS'][mes-1]\n",
        "  FaixaInferior = vol_min + (vol_max-vol_min)*FaixaInferior/100.\n",
        "  FaixaSuperior = vol_min + (vol_max-vol_min)*FaixaSuperior/100.\n",
        "\n",
        "  Centro = Faixa_hm3\n",
        "\n",
        "  #\n",
        "  # Regra do Alberto (Centro Móvel)\n",
        "  #\n",
        "\n",
        "  CENTRO_max = VolInic_hm3 + 2.592*vazao_afluente               # – 2.592*VAZÃO MÍNIMA\n",
        "  CENTRO_min = VolInic_hm3 + 2.592*vazao_afluente - engolimento\n",
        "\n",
        "  if Faixa_hm3 > CENTRO_max:\n",
        "    Centro = CENTRO_max\n",
        "  if Centro < CENTRO_min:\n",
        "    Centro = CENTRO_min\n",
        "\n",
        "  P = matrix([[2.0*CustoForaFaixa/(vol_max)**2, 0.0,  0.0,  0.0,  0.0,  0.0],\n",
        "              [0.0, 0.0,  0.0,  0.0,  0.0,  0.0],\n",
        "              [0.0, 0.0,  0.0,  0.0,  0.0,  0.0],\n",
        "              [0.0, 0.0,  0.0,  0.0,  0.0,  0.0],\n",
        "              [0.0, 0.0,  0.0,  0.0,  0.0,  0.0],\n",
        "              [0.0, 0.0,  0.0,  0.0,  0.0,  0.0]])\n",
        "\n",
        "  q = matrix([-2*CustoForaFaixa*Faixa_hm3/(vol_max**2), 0.0, CustoDeficit*1.50, UTE_A['Custo'], UTE_B['Custo'], CustoDeficit])\n",
        "  q = matrix([-2*CustoForaFaixa*Centro/(vol_max**2), 0.0, CustoDeficit*1.50, UTE_A['Custo'], UTE_B['Custo'], CustoDeficit])\n",
        "\n",
        "  Aeq = matrix([[1, 2.592, 2.592, 0, 0 , 0],\n",
        "              [0, produtibilidade, 0.0, 1.0, 1.0, 1.0]])\n",
        "\n",
        "  Beq = matrix( [VolInic_hm3+2.592*vazao_afluente, Carga] )\n",
        "\n",
        "  A = matrix( [[-1., 0., 0., 0., 0., 0.],\n",
        "              [0., -1., 0., 0., 0., 0.],\n",
        "              [0., 0., -1., 0., 0., 0.],\n",
        "              [0., 0., 0, -1., 0., 0.],\n",
        "              [0., 0., 0., 0., -1., 0.],\n",
        "              [0., 0., 0., 0., 0., -1.],\n",
        "              [1., 0., 0., 0., 0., 0.],\n",
        "              [0., 1., 0., 0., 0., 0.],\n",
        "              [0., 0., 1., 0., 0., 0.],\n",
        "              [0., 0., 0., 1., 0., 0.],\n",
        "              [0., 0., 0., 0., 1., 0.],\n",
        "              [0., 0., 0., 0., 0., 1.]])\n",
        "\n",
        "  Travei = False\n",
        "\n",
        "  if Saida == None or FlipFlop == False:\n",
        "    B = matrix([-vol_min, 0, 0, 0, 0, 0,\n",
        "                vol_max, 1.0*engolimento, 10*vol_max, UTE_A['Capac'], UTE_B['Capac'], 10*Carga])\n",
        "  else:\n",
        "    Travei = True\n",
        "    B = matrix([-vol_min, 0, 0, -Saida[7], -Saida[8], 0,\n",
        "                vol_max, 1.0*engolimento, 10*vol_max, Saida[7], Saida[8], 10*Carga])\n",
        "\n",
        "  solvers.options['show_progress'] = False\n",
        "  abstol = 1e-9\n",
        "  reltol = 1e-9\n",
        "\n",
        "  sol = solvers.qp(P, q, A.T, B, Aeq.T, Beq, abstol=abstol, reltol=reltol)\n",
        "\n",
        "  # x[0] -> vf (volume final - hm3)\n",
        "  # x[1] -> vt (vazao turbinada - m3/s)\n",
        "  # x[2] -> vv (vazao vertida - m3/s)\n",
        "  # x[3] -> termica A (MWmedio)\n",
        "  # x[4] -> termica B (MWmedio)\n",
        "  # x[5] -> deficit (MWmedio)\n",
        "\n",
        "  # Testar colocação do Alberto (se ficar dentro da faixa, nao tem deficit nem vertimento)\n",
        "\n",
        "  if FlipFlop == True:\n",
        "    if sol[\"x\"][0] > FaixaSuperior or sol[\"x\"][0] < FaixaInferior or sol[\"x\"][2] > 0.01 or sol[\"x\"][5] > 0.01 :\n",
        "        Travei = False\n",
        "        B = matrix([-vol_min, 0, 0, 0, 0, 0,\n",
        "                vol_max, 1.0*engolimento, 10*vol_max, UTE_A['Capac'], UTE_B['Capac'], 10*Carga])\n",
        "        sol = solvers.qp(P, q, A.T, B, Aeq.T, Beq, abstol=abstol, reltol=reltol)\n",
        "\n",
        "  if Travei == True and FlipFlop == True:\n",
        "    print (f\"Geração térmica travada em {mes}/{ano}\")\n",
        "\n",
        "  if sol['status'] == 'primal infeasible':\n",
        "    print(ano,'/',mes)\n",
        "    print(P)\n",
        "    print(q.T)\n",
        "    print(A.T)\n",
        "    print(B)\n",
        "    print (Aeq.T)\n",
        "    print (Beq)\n",
        "\n",
        "  geracao_termica_total = sol[\"x\"][3] + sol[\"x\"][4] + sol[\"x\"][5]\n",
        "\n",
        "  # Implementar o médio ponderado (Afonso/Calobró).\n",
        "\n",
        "  CMO = 0.\n",
        "  PLD = 0.\n",
        "  if geracao_termica_total > 0.001 and geracao_termica_total <= UTE_A['Capac']:\n",
        "    CMO = UTE_A['Custo']\n",
        "    PLD = UTE_A['Custo']\n",
        "  else:\n",
        "    if geracao_termica_total > 0.01 and geracao_termica_total <= UTE_A['Capac'] + UTE_B['Capac']:\n",
        "      CMO = UTE_B['Custo']\n",
        "      PLD = (UTE_A['Custo']*sol[\"x\"][3] + UTE_B['Custo']*sol[\"x\"][4])/(sol[\"x\"][3]+sol[\"x\"][4])\n",
        "    else:\n",
        "      if sol[\"x\"][5] > 0.1:\n",
        "        CMO = CustoDeficit\n",
        "        PLD = (UTE_A['Custo']*sol[\"x\"][3] +\n",
        "               UTE_B['Custo']*sol[\"x\"][4] +\n",
        "               CustoDeficit*sol[\"x\"][5])/(sol[\"x\"][3]+sol[\"x\"][4]+sol[\"x\"][5])\n",
        "        # Complementar depois com o acréscimo do Calobró\n",
        "\n",
        "  if Imprimir:\n",
        "    # exibir o resultado da solução\n",
        "    print(f'O Volume Final ótimo é: {sol[\"x\"][0]:.2f} hm3. Volume Inicial {VolInic_hm3} hm3. Mínimo {vol_min:.2f} hm3. Máximo {vol_max:.2f} hm3. Meta {Faixa_hm3:.2f} hm3.' )\n",
        "    print(f'O volume turbinado ótimo é {sol[\"x\"][1]:.2f} m3/s. O engolimento máximo é {engolimento:.2f}')\n",
        "    print(f'O volume vertido ótimo é {sol[\"x\"][2]:.2f} m3/s.')\n",
        "    print(f'A geração térmica ótimo da UTE_A é {sol[\"x\"][3]:.2f} MWmed. A capacidade da térmica é {UTE_A[\"Capac\"]}')\n",
        "    print(f'A geração térmica ótimo da UTE_B é {sol[\"x\"][4]:.2f} MWmed. A capacidade da térmica é {UTE_B[\"Capac\"]}')\n",
        "    print(f'O déficit ótimo é {sol[\"x\"][5]:.2f} MWmed.')\n",
        "\n",
        "    print(f'O valor da FOB é de {sol[\"primal objective\"]+Faixa_hm3**2*CustoForaFaixa}')\n",
        "\n",
        "    DespachonoTalo = UTE_A[\"Custo\"]*UTE_A[\"Capac\"]+UTE_B[\"Custo\"]*UTE_B[\"Capac\"]\n",
        "    print(f'PEN1: {CustoForaFaixa}')\n",
        "    print(f'DespachonoTalo: {DespachonoTalo}')\n",
        "    print(f'Relação entre PEN1 e Despacho no Talo{CustoForaFaixa/DespachonoTalo}')\n",
        "\n",
        "    print(f'O valor da FOB é de {sol[\"primal objective\"]}')\n",
        "\n",
        "    # Fechamento BH\n",
        "    print (\"Fechamento BH\")\n",
        "    print ('... Vol Inicial:', VolInic_hm3)\n",
        "    print ('... Vaz Afluent:', vazao_afluente*2.592)\n",
        "    print ('... Vaz Turbina:', sol['x'][1]*2.592)\n",
        "    print ('... Vaz Vertida:', sol['x'][2]*2.592)\n",
        "    print ('... Volf. Calc :', VolInic_hm3+vazao_afluente*2.592-sol['x'][1]*2.592-sol['x'][2]*2.592)\n",
        "    print ('**************')\n",
        "    print (\"Fechamento AD\")\n",
        "    print('... Ger.Hidrau:', produtibilidade*sol['x'][1])\n",
        "    print('... Ger. TermA:', sol['x'][3])\n",
        "    print('... Ger. TermB:', sol['x'][4])\n",
        "    print('... Deficit En:', sol['x'][5])\n",
        "    print('... Carga Calc:', produtibilidade*sol['x'][1]+sol['x'][3]+sol['x'][4]+sol['x'][5])\n",
        "    print ('**************')\n",
        "\n",
        "  return [ CMO, FaixaInferior, FaixaSuperior, Faixa_hm3, sol[\"x\"][0], sol[\"x\"][5], sol[\"x\"][2], sol[\"x\"][3], sol[\"x\"][4], PLD ]"
      ],
      "metadata": {
        "id": "BCVDCa9pPZwY"
      },
      "execution_count": 132,
      "outputs": []
    }
  ]
}